{
 "cells": [
  {
   "cell_type": "code",
   "id": "initial_id",
   "metadata": {
    "collapsed": true
   },
   "source": [
    "# visualizer_example.py\n",
    "\n",
    "import torchvision\n",
    "from torchvision.transforms import v2 as transforms\n",
    "from torch.utils.data import Subset\n",
    "\n",
    "from data.dataset_visualizer import ImageDatasetWithLabels\n",
    "from postprocess_visual.object_detection_visualizer import ObjectDetectionVisualizer\n",
    "\n",
    "\n",
    "def prepare_dataset():\n",
    "    dataset = torchvision.datasets.VOCDetection(\n",
    "        root=\"../VOC\", year=\"2007\", image_set=\"val\", download=False\n",
    "    )\n",
    "    dataset = torchvision.datasets.wrap_dataset_for_transforms_v2(dataset)\n",
    "    indices = range(10)\n",
    "    dataset = Subset(dataset, indices)\n",
    "\n",
    "    transform = transforms.Compose(\n",
    "        [\n",
    "            transforms.Resize(size=(256, 256)),\n",
    "        ]\n",
    "    )\n",
    "\n",
    "    return ImageDatasetWithLabels(dataset=dataset, transformation=transform)\n",
    "\n",
    "\n",
    "# Create visualizer with default settings\n",
    "visualizer = ObjectDetectionVisualizer(\n",
    "    dataset=prepare_dataset(),\n",
    "    checkpoint_path=\"../models/checkpoints/pretrained_weights.pt\",\n",
    "    input_height=256,\n",
    "    input_width=256,\n",
    "    confidence_threshold=0.3,\n",
    ")\n",
    "\n",
    "# Visualize predictions\n",
    "visualizer.visualize_predictions()"
   ],
   "outputs": [],
   "execution_count": null
  },
  {
   "metadata": {},
   "cell_type": "code",
   "outputs": [],
   "execution_count": null,
   "source": "",
   "id": "eb6bf38583c19069"
  },
  {
   "metadata": {},
   "cell_type": "code",
   "outputs": [],
   "execution_count": null,
   "source": "",
   "id": "6ced00e125e20f20"
  }
 ],
 "metadata": {
  "kernelspec": {
   "display_name": "Python 3",
   "language": "python",
   "name": "python3"
  },
  "language_info": {
   "codemirror_mode": {
    "name": "ipython",
    "version": 2
   },
   "file_extension": ".py",
   "mimetype": "text/x-python",
   "name": "python",
   "nbconvert_exporter": "python",
   "pygments_lexer": "ipython2",
   "version": "2.7.6"
  }
 },
 "nbformat": 4,
 "nbformat_minor": 5
}
