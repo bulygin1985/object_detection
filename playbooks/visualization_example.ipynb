{
 "cells": [
  {
   "cell_type": "code",
   "id": "initial_id",
   "metadata": {
    "collapsed": true,
    "ExecuteTime": {
     "end_time": "2024-12-27T15:13:00.173387Z",
     "start_time": "2024-12-27T15:12:59.535218Z"
    }
   },
   "source": [
    "# visualizer_example.py\n",
    "\n",
    "import torchvision\n",
    "from torchvision.transforms import v2 as transforms\n",
    "from torch.utils.data import Subset\n",
    "\n",
    "from data.dataset_visualizer import ImageDatasetWithLabels\n",
    "from postprocess_visual.object_detection_visualizer import ObjectDetectionVisualizer\n",
    "\n",
    "\n",
    "def prepare_dataset():\n",
    "    dataset = torchvision.datasets.VOCDetection(\n",
    "        root=\"../VOC\", year=\"2007\", image_set=\"val\", download=False\n",
    "    )\n",
    "    dataset = torchvision.datasets.wrap_dataset_for_transforms_v2(dataset)\n",
    "    indices = range(10)\n",
    "    dataset = Subset(dataset, indices)\n",
    "\n",
    "    transform = transforms.Compose(\n",
    "        [\n",
    "            transforms.Resize(size=(256, 256)),\n",
    "        ]\n",
    "    )\n",
    "\n",
    "    return ImageDatasetWithLabels(dataset=dataset, transformation=transform)\n",
    "\n",
    "\n",
    "# Create visualizer with default settings\n",
    "visualizer = ObjectDetectionVisualizer(\n",
    "    dataset=prepare_dataset(),\n",
    "    checkpoint_path=\"../models/checkpoints/imagenet_pretrained_weights.pt\",\n",
    "    input_height=256,\n",
    "    input_width=256,\n",
    "    confidence_threshold=0.3,\n",
    "    #model = ImagenetModel(alpha=1.0)\n",
    ")\n",
    "\n",
    "# Visualize predictions\n",
    "visualizer.visualize_predictions()"
   ],
   "outputs": [
    {
     "name": "stderr",
     "output_type": "stream",
     "text": [
      "INFO:postprocess_visual.imagenet:Using device: cuda\n"
     ]
    },
    {
     "name": "stdout",
     "output_type": "stream",
     "text": [
      "loss_dict = {}\n"
     ]
    },
    {
     "ename": "error",
     "evalue": "OpenCV(4.10.0) :-1: error: (-5:Bad argument) in function 'rectangle'\n> Overload resolution failed:\n>  - img marked as output argument, but provided NumPy array marked as readonly\n>  - Expected Ptr<cv::UMat> for argument 'img'\n>  - img marked as output argument, but provided NumPy array marked as readonly\n>  - Expected Ptr<cv::UMat> for argument 'img'\n",
     "output_type": "error",
     "traceback": [
      "\u001B[1;31m---------------------------------------------------------------------------\u001B[0m",
      "\u001B[1;31merror\u001B[0m                                     Traceback (most recent call last)",
      "Cell \u001B[1;32mIn[17], line 38\u001B[0m\n\u001B[0;32m     29\u001B[0m visualizer \u001B[38;5;241m=\u001B[39m ObjectDetectionVisualizer(\n\u001B[0;32m     30\u001B[0m     dataset\u001B[38;5;241m=\u001B[39mprepare_dataset(),\n\u001B[0;32m     31\u001B[0m     checkpoint_path\u001B[38;5;241m=\u001B[39m\u001B[38;5;124m\"\u001B[39m\u001B[38;5;124m../models/checkpoints/imagenet_pretrained_weights.pt\u001B[39m\u001B[38;5;124m\"\u001B[39m,\n\u001B[1;32m   (...)\u001B[0m\n\u001B[0;32m     34\u001B[0m     confidence_threshold\u001B[38;5;241m=\u001B[39m\u001B[38;5;241m0.3\u001B[39m,\n\u001B[0;32m     35\u001B[0m )\n\u001B[0;32m     37\u001B[0m \u001B[38;5;66;03m# Visualize predictions\u001B[39;00m\n\u001B[1;32m---> 38\u001B[0m \u001B[43mvisualizer\u001B[49m\u001B[38;5;241;43m.\u001B[39;49m\u001B[43mvisualize_predictions\u001B[49m\u001B[43m(\u001B[49m\u001B[43m)\u001B[49m\n",
      "File \u001B[1;32m~\\Desktop\\l\\postprocess_visual\\imagenet.py:167\u001B[0m, in \u001B[0;36mObjectDetectionVisualizer.visualize_predictions\u001B[1;34m(self)\u001B[0m\n\u001B[0;32m    162\u001B[0m pred_boxes, pred_labels, pred_scores \u001B[38;5;241m=\u001B[39m \u001B[38;5;28mself\u001B[39m\u001B[38;5;241m.\u001B[39m_process_detections(\n\u001B[0;32m    163\u001B[0m     detections, \u001B[38;5;28mself\u001B[39m\u001B[38;5;241m.\u001B[39minput_height, \u001B[38;5;28mself\u001B[39m\u001B[38;5;241m.\u001B[39minput_width\n\u001B[0;32m    164\u001B[0m )\n\u001B[0;32m    166\u001B[0m \u001B[38;5;28;01mfor\u001B[39;00m box, label, score \u001B[38;5;129;01min\u001B[39;00m \u001B[38;5;28mzip\u001B[39m(pred_boxes, pred_labels, pred_scores):\n\u001B[1;32m--> 167\u001B[0m     \u001B[43mcv2\u001B[49m\u001B[38;5;241;43m.\u001B[39;49m\u001B[43mrectangle\u001B[49m\u001B[43m(\u001B[49m\n\u001B[0;32m    168\u001B[0m \u001B[43m        \u001B[49m\u001B[43mimg_np\u001B[49m\u001B[43m,\u001B[49m\n\u001B[0;32m    169\u001B[0m \u001B[43m        \u001B[49m\u001B[43m(\u001B[49m\u001B[43mbox\u001B[49m\u001B[43m[\u001B[49m\u001B[38;5;241;43m0\u001B[39;49m\u001B[43m]\u001B[49m\u001B[43m,\u001B[49m\u001B[43m \u001B[49m\u001B[43mbox\u001B[49m\u001B[43m[\u001B[49m\u001B[38;5;241;43m1\u001B[39;49m\u001B[43m]\u001B[49m\u001B[43m)\u001B[49m\u001B[43m,\u001B[49m\n\u001B[0;32m    170\u001B[0m \u001B[43m        \u001B[49m\u001B[43m(\u001B[49m\u001B[43mbox\u001B[49m\u001B[43m[\u001B[49m\u001B[38;5;241;43m2\u001B[39;49m\u001B[43m]\u001B[49m\u001B[43m,\u001B[49m\u001B[43m \u001B[49m\u001B[43mbox\u001B[49m\u001B[43m[\u001B[49m\u001B[38;5;241;43m3\u001B[39;49m\u001B[43m]\u001B[49m\u001B[43m)\u001B[49m\u001B[43m,\u001B[49m\n\u001B[0;32m    171\u001B[0m \u001B[43m        \u001B[49m\u001B[43m(\u001B[49m\u001B[38;5;241;43m0\u001B[39;49m\u001B[43m,\u001B[49m\u001B[43m \u001B[49m\u001B[38;5;241;43m1\u001B[39;49m\u001B[43m,\u001B[49m\u001B[43m \u001B[49m\u001B[38;5;241;43m0\u001B[39;49m\u001B[43m)\u001B[49m\u001B[43m,\u001B[49m\n\u001B[0;32m    172\u001B[0m \u001B[43m        \u001B[49m\u001B[38;5;241;43m2\u001B[39;49m\u001B[43m,\u001B[49m\n\u001B[0;32m    173\u001B[0m \u001B[43m    \u001B[49m\u001B[43m)\u001B[49m\n\u001B[0;32m    174\u001B[0m     label_text \u001B[38;5;241m=\u001B[39m \u001B[38;5;124mf\u001B[39m\u001B[38;5;124m\"\u001B[39m\u001B[38;5;132;01m{\u001B[39;00mPASCAL_CLASSES[label\u001B[38;5;250m \u001B[39m\u001B[38;5;241m-\u001B[39m\u001B[38;5;250m \u001B[39m\u001B[38;5;241m1\u001B[39m]\u001B[38;5;132;01m}\u001B[39;00m\u001B[38;5;124m: \u001B[39m\u001B[38;5;132;01m{\u001B[39;00mscore\u001B[38;5;132;01m:\u001B[39;00m\u001B[38;5;124m.2f\u001B[39m\u001B[38;5;132;01m}\u001B[39;00m\u001B[38;5;124m\"\u001B[39m\n\u001B[0;32m    175\u001B[0m     cv2\u001B[38;5;241m.\u001B[39mputText(\n\u001B[0;32m    176\u001B[0m         img_np,\n\u001B[0;32m    177\u001B[0m         label_text,\n\u001B[1;32m   (...)\u001B[0m\n\u001B[0;32m    182\u001B[0m         \u001B[38;5;241m2\u001B[39m,\n\u001B[0;32m    183\u001B[0m     )\n",
      "\u001B[1;31merror\u001B[0m: OpenCV(4.10.0) :-1: error: (-5:Bad argument) in function 'rectangle'\n> Overload resolution failed:\n>  - img marked as output argument, but provided NumPy array marked as readonly\n>  - Expected Ptr<cv::UMat> for argument 'img'\n>  - img marked as output argument, but provided NumPy array marked as readonly\n>  - Expected Ptr<cv::UMat> for argument 'img'\n"
     ]
    }
   ],
   "execution_count": 17
  },
  {
   "metadata": {},
   "cell_type": "code",
   "outputs": [],
   "execution_count": null,
   "source": "",
   "id": "eb6bf38583c19069"
  },
  {
   "metadata": {},
   "cell_type": "code",
   "outputs": [],
   "execution_count": null,
   "source": "",
   "id": "6ced00e125e20f20"
  }
 ],
 "metadata": {
  "kernelspec": {
   "display_name": "Python 3",
   "language": "python",
   "name": "python3"
  },
  "language_info": {
   "codemirror_mode": {
    "name": "ipython",
    "version": 2
   },
   "file_extension": ".py",
   "mimetype": "text/x-python",
   "name": "python",
   "nbconvert_exporter": "python",
   "pygments_lexer": "ipython2",
   "version": "2.7.6"
  }
 },
 "nbformat": 4,
 "nbformat_minor": 5
}
