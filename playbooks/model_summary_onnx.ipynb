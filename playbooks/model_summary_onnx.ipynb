{
 "cells": [
  {
   "cell_type": "code",
   "execution_count": null,
   "id": "1d1f2854-b4e6-4b3f-8d14-41e510487559",
   "metadata": {},
   "outputs": [],
   "source": [
    "import sys\n",
    "sys.path.append('..')"
   ]
  },
  {
   "cell_type": "code",
   "execution_count": null,
   "id": "bf2a95f1-c950-45ca-a35b-f329a0d6765d",
   "metadata": {},
   "outputs": [],
   "source": [
    "from models.centernet import ModelBuilder\n",
    "backbonename = \"resnet18\"\n",
    "weights = 'DEFAULT'\n",
    "model = ModelBuilder(\n",
    "        alpha=1,\n",
    "        backbone=backbonename,\n",
    "        backbone_weights=weights,\n",
    "    )"
   ]
  },
  {
   "cell_type": "code",
   "execution_count": null,
   "id": "dbd24b69-8607-4ffc-be95-fa1fa55f4c78",
   "metadata": {
    "scrolled": true
   },
   "outputs": [],
   "source": [
    "summary(model, (3, 224, 224))"
   ]
  },
  {
   "cell_type": "code",
   "execution_count": null,
   "id": "907878f0-87f2-4a9f-80a3-0b19597dbc53",
   "metadata": {},
   "outputs": [],
   "source": [
    "import torch\n",
    "batch_size = 1\n",
    "x = torch.randn(batch_size, 3, 224, 224, requires_grad=True)\n",
    "torch_out = model(x)\n",
    "\n",
    "# Export the model\n",
    "torch.onnx.export(torch_model,               # model being run\n",
    "                  x,                         # model input (or a tuple for multiple inputs)\n",
    "                  \"centernet_resnet18.onnx\",   # where to save the model (can be a file or file-like object)\n",
    "                  export_params=True,        # store the trained parameter weights inside the model file\n",
    "                  opset_version=10,          # the ONNX version to export the model to\n",
    "                  do_constant_folding=True,  # whether to execute constant folding for optimization\n",
    "                  input_names = ['input'],   # the model's input names\n",
    "                  output_names = ['output'], # the model's output names\n",
    "                  dynamic_axes={'input' : {0 : 'batch_size'},    # variable length axes\n",
    "                                'output' : {0 : 'batch_size'}})"
   ]
  },
  {
   "cell_type": "code",
   "execution_count": null,
   "id": "3fc563ba-861d-41ec-bc3a-5fbc357b2278",
   "metadata": {},
   "outputs": [],
   "source": [
    "# use https://netron.app/ to visualize graph"
   ]
  },
  {
   "cell_type": "code",
   "execution_count": null,
   "id": "158c0004-4ac7-4d43-a418-ad506ee5321b",
   "metadata": {},
   "outputs": [],
   "source": []
  }
 ],
 "metadata": {
  "kernelspec": {
   "display_name": "Python 3 (ipykernel)",
   "language": "python",
   "name": "python3"
  },
  "language_info": {
   "codemirror_mode": {
    "name": "ipython",
    "version": 3
   },
   "file_extension": ".py",
   "mimetype": "text/x-python",
   "name": "python",
   "nbconvert_exporter": "python",
   "pygments_lexer": "ipython3",
   "version": "3.10.7"
  }
 },
 "nbformat": 4,
 "nbformat_minor": 5
}
