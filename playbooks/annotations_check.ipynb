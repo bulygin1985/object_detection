{
 "cells": [
  {
   "cell_type": "code",
   "id": "initial_id",
   "metadata": {
    "collapsed": true
   },
   "source": [
    "import json\n",
    "from pathlib import Path\n",
    "import matplotlib.pyplot as plt\n",
    "from PIL import Image\n",
    "import torch\n",
    "\n",
    "def check_mscoco_annotations():\n",
    "    annotation_path = Path(\"../PASCAL_VOC/pascal_train2007.json\")\n",
    "    images_dir = Path(\"../VOC/VOCdevkit/VOC2007/JPEGImages\")\n",
    "\n",
    "    with open(annotation_path) as f:\n",
    "        annotations = json.load(f)\n",
    "\n",
    "    categories = {cat['id']: cat['name'] for cat in annotations['categories']}\n",
    "\n",
    "    image_info = annotations['images'][10]\n",
    "    image_id = image_info['id']\n",
    "    image_filename = image_info['file_name']\n",
    "\n",
    "    image_annotations = [ann for ann in annotations['annotations'] if ann['image_id'] == image_id]\n",
    "\n",
    "    image_path = images_dir / image_filename\n",
    "    image = Image.open(image_path)\n",
    "\n",
    "    plt.figure(figsize=(10, 10))\n",
    "    plt.imshow(image)\n",
    "\n",
    "    for ann in image_annotations:\n",
    "        bbox = ann['bbox']\n",
    "        category_id = ann['category_id']\n",
    "        class_name = categories[category_id]\n",
    "\n",
    "        x, y, w, h = bbox\n",
    "        plt.plot([x, x + w, x + w, x, x], [y, y, y + h, y + h, y], 'r-', linewidth=2)\n",
    "\n",
    "        plt.text(x, y - 5, class_name, color='red', fontsize=12,\n",
    "                 bbox=dict(facecolor='white', alpha=0.7))\n",
    "\n",
    "    plt.axis('off')\n",
    "    plt.show()\n",
    "\n",
    "    print(f\"image: {image_filename}\")\n",
    "    for ann in image_annotations:\n",
    "        print(f\"- {categories[ann['category_id']]}\")\n",
    "\n",
    "\n",
    "check_mscoco_annotations()"
   ],
   "outputs": [],
   "execution_count": null
  }
 ],
 "metadata": {
  "kernelspec": {
   "display_name": "Python 3",
   "language": "python",
   "name": "python3"
  },
  "language_info": {
   "codemirror_mode": {
    "name": "ipython",
    "version": 2
   },
   "file_extension": ".py",
   "mimetype": "text/x-python",
   "name": "python",
   "nbconvert_exporter": "python",
   "pygments_lexer": "ipython2",
   "version": "2.7.6"
  }
 },
 "nbformat": 4,
 "nbformat_minor": 5
}
