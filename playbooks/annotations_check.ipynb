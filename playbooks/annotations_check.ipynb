{
 "cells": [
  {
   "cell_type": "code",
   "id": "initial_id",
   "metadata": {
    "collapsed": true
   },
   "source": [
    "import json\n",
    "from pathlib import Path\n",
    "import matplotlib.pyplot as plt\n",
    "import torch\n",
    "from PIL import Image, ImageDraw\n",
    "from data.data_loader import PascalVOCDataLoader, convert_coco_2_voc\n",
    "\n",
    "def visualize_dataset():\n",
    "    voc_path = \"../VOC\"\n",
    "    coco_annotation_path = \"../PASCAL_VOC/pascal_train2007.json\"\n",
    "\n",
    "    with open(coco_annotation_path) as f:\n",
    "        coco_annotations = json.load(f)\n",
    "\n",
    "    categories = {cat['id']: cat['name'] for cat in coco_annotations['categories']}\n",
    "\n",
    "    voc_loader = PascalVOCDataLoader(dataset_path=voc_path, image_set=\"train\")\n",
    "    voc_loader.load()\n",
    "\n",
    "    for idx in range(1):\n",
    "        image, _ = voc_loader[idx]\n",
    "\n",
    "        image_info = coco_annotations['images'][idx]\n",
    "        image_id = image_info['id']\n",
    "        image_annotations = [\n",
    "            ann for ann in coco_annotations['annotations']\n",
    "            if ann['image_id'] == image_id\n",
    "        ]\n",
    "\n",
    "        voc_targets = convert_coco_2_voc(image_annotations)\n",
    "\n",
    "        plt.figure(figsize=(10, 10))\n",
    "        plt.imshow(image)\n",
    "\n",
    "        boxes = voc_targets['boxes']\n",
    "        labels = voc_targets['labels']\n",
    "\n",
    "        for box, label in zip(boxes, labels):\n",
    "            x1, y1, x2, y2 = box.tolist()\n",
    "            category_name = categories[label.item()]\n",
    "\n",
    "            plt.plot([x1, x2, x2, x1, x1], [y1, y1, y2, y2, y1], 'r-', linewidth=2)\n",
    "\n",
    "            plt.text(x1, y1 - 5, category_name, color='red', fontsize=12,\n",
    "                    bbox=dict(facecolor='white', alpha=0.7))\n",
    "\n",
    "        plt.axis('off')\n",
    "        plt.title(f'Image {idx + 1}')\n",
    "        plt.show()\n",
    "\n",
    "if __name__ == \"__main__\":\n",
    "    visualize_dataset()"
   ],
   "outputs": [],
   "execution_count": null
  }
 ],
 "metadata": {
  "kernelspec": {
   "display_name": "Python 3",
   "language": "python",
   "name": "python3"
  },
  "language_info": {
   "codemirror_mode": {
    "name": "ipython",
    "version": 2
   },
   "file_extension": ".py",
   "mimetype": "text/x-python",
   "name": "python",
   "nbconvert_exporter": "python",
   "pygments_lexer": "ipython2",
   "version": "2.7.6"
  }
 },
 "nbformat": 4,
 "nbformat_minor": 5
}
