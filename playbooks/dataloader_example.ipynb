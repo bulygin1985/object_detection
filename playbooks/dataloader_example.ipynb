{
 "cells": [
  {
   "cell_type": "code",
   "execution_count": null,
   "metadata": {},
   "outputs": [],
   "source": [
    "import torch\n",
    "import torchvision.transforms.v2 as transforms\n",
    "from data.data_loader import PascalVOCDataLoader, MSCocoDataLoader\n",
    "from training.encoder import CenternetEncoder\n",
    "from utils.config import IMG_HEIGHT, IMG_WIDTH\n",
    "import matplotlib.pyplot as plt\n",
    "\n",
    "\n",
    "print(\"GPU is available: \", torch.cuda.is_available())"
   ]
  },
  {
   "cell_type": "code",
   "execution_count": null,
   "metadata": {},
   "outputs": [],
   "source": [
    "transform = transforms.Compose(\n",
    "    [\n",
    "        transforms.Resize(size=(IMG_WIDTH, IMG_HEIGHT)),\n",
    "        transforms.ToImage(),\n",
    "        transforms.ToDtype(torch.float32, scale=True),\n",
    "    ]\n",
    ")\n",
    "voc_encoder = CenternetEncoder(IMG_HEIGHT, IMG_WIDTH)"
   ]
  },
  {
   "cell_type": "code",
   "execution_count": 3,
   "metadata": {},
   "outputs": [],
   "source": [
    "voc_dataset_loader = PascalVOCDataLoader(dataset_path=\"../VOC\", image_set=\"val\")\n",
    "voc_dataset = voc_dataset_loader.load(transform, voc_encoder)"
   ]
  },
  {
   "cell_type": "code",
   "execution_count": 4,
   "metadata": {},
   "outputs": [],
   "source": [
    "voc_batch_ds = list(\n",
    "    torch.utils.data.DataLoader(\n",
    "        voc_dataset, num_workers=4, batch_size=32, shuffle=True\n",
    "    )\n",
    ")"
   ]
  },
  {
   "cell_type": "code",
   "execution_count": null,
   "metadata": {},
   "outputs": [],
   "source": [
    "imgs, lbls = voc_batch_ds[0]\n",
    "plt.imshow(imgs[0].data.numpy().transpose(1, 2, 0))"
   ]
  },
  {
   "cell_type": "code",
   "execution_count": null,
   "metadata": {},
   "outputs": [],
   "source": [
    "coco_encoder = CenternetEncoder(IMG_HEIGHT, IMG_WIDTH, n_classes=90)"
   ]
  },
  {
   "cell_type": "code",
   "execution_count": null,
   "metadata": {},
   "outputs": [],
   "source": [
    "coco_dataset_loader = MSCocoDataLoader(dataset_path=\"../COCO\", image_set=\"val\")\n",
    "coco_dataset = coco_dataset_loader.load(transform, coco_encoder)"
   ]
  },
  {
   "cell_type": "code",
   "execution_count": 8,
   "metadata": {},
   "outputs": [],
   "source": [
    "coco_batch_ds = list(\n",
    "    torch.utils.data.DataLoader(\n",
    "        coco_dataset, num_workers=4, batch_size=32, shuffle=True\n",
    "    )\n",
    ")"
   ]
  },
  {
   "cell_type": "code",
   "execution_count": null,
   "metadata": {},
   "outputs": [],
   "source": [
    "imgs, lbls = coco_batch_ds[0]\n",
    "plt.imshow(imgs[0].data.numpy().transpose(1, 2, 0))"
   ]
  }
 ],
 "metadata": {
  "kernelspec": {
   "display_name": "ml-sdk",
   "language": "python",
   "name": "python3"
  },
  "language_info": {
   "codemirror_mode": {
    "name": "ipython",
    "version": 3
   },
   "file_extension": ".py",
   "mimetype": "text/x-python",
   "name": "python",
   "nbconvert_exporter": "python",
   "pygments_lexer": "ipython3",
   "version": "3.11.10"
  }
 },
 "nbformat": 4,
 "nbformat_minor": 2
}
