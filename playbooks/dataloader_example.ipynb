{
 "cells": [
  {
   "cell_type": "code",
   "metadata": {
    "ExecuteTime": {
     "end_time": "2025-01-03T21:15:00.391367Z",
     "start_time": "2025-01-03T21:14:59.269895Z"
    }
   },
   "source": [
    "import torch\n",
    "import torchvision.transforms.v2 as transforms\n",
    "from data.data_loader import PascalVOCDataLoader, MSCocoDataLoader\n",
    "from encoders.centernet_encoder import CenternetEncoder\n",
    "from models.centernet import input_height, input_width\n",
    "\n",
    "print(\"GPU is available: \", torch.cuda.is_available())\n",
    "\n",
    "transform = transforms.Compose([\n",
    "    transforms.Resize(size=(input_width, input_height), antialias=True),\n",
    "    transforms.ToImage(),\n",
    "    transforms.ToDtype(torch.float32, scale=True),\n",
    "])\n",
    "\n",
    "# VOC dataset\n",
    "voc_encoder = CenternetEncoder(input_height, input_width)\n",
    "voc_dataset_loader = PascalVOCDataLoader(dataset_path=\"../VOC\", image_set=\"val\")\n",
    "voc_dataset = voc_dataset_loader.load(transform, voc_encoder)\n",
    "\n",
    "voc_batch_ds = torch.utils.data.DataLoader(\n",
    "    voc_dataset,\n",
    "    num_workers=0,\n",
    "    batch_size=32,\n",
    "    shuffle=False\n",
    ")\n",
    "\n",
    "# COCO dataset\n",
    "coco_encoder = CenternetEncoder(input_height, input_width, n_classes=90)\n",
    "coco_dataset_loader = MSCocoDataLoader(dataset_path=\"../COCO\", image_set=\"val\")\n",
    "coco_dataset = coco_dataset_loader.load(transform, coco_encoder)\n",
    "\n",
    "coco_batch_ds = torch.utils.data.DataLoader(\n",
    "    coco_dataset,\n",
    "    num_workers=0,\n",
    "    batch_size=32,\n",
    "    shuffle=False\n",
    ")\n",
    "\n",
    "# Test the dataloaders\n",
    "for batch in voc_batch_ds:\n",
    "    print(\"VOC batch shape:\", batch[0].shape)\n",
    "    break\n",
    "\n",
    "for batch in coco_batch_ds:\n",
    "    print(\"COCO batch shape:\", batch[0].shape)\n",
    "    break"
   ],
   "outputs": [
    {
     "name": "stdout",
     "output_type": "stream",
     "text": [
      "GPU is available:  True\n",
      "down_ratio = 4\n",
      "down_ratio = 4\n",
      "loading annotations into memory...\n",
      "Done (t=0.40s)\n",
      "creating index...\n",
      "index created!\n",
      "VOC batch shape: torch.Size([32, 3, 256, 256])\n",
      "COCO batch shape: torch.Size([32, 3, 256, 256])\n"
     ]
    }
   ],
   "execution_count": 2
  }
 ],
 "metadata": {
  "kernelspec": {
   "display_name": "ml-course",
   "language": "python",
   "name": "python3"
  },
  "language_info": {
   "codemirror_mode": {
    "name": "ipython",
    "version": 3
   },
   "file_extension": ".py",
   "mimetype": "text/x-python",
   "name": "python",
   "nbconvert_exporter": "python",
   "pygments_lexer": "ipython3",
   "version": "3.10.7"
  }
 },
 "nbformat": 4,
 "nbformat_minor": 2
}
